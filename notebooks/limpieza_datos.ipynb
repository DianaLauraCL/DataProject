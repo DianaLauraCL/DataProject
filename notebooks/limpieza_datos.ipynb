{
 "cells": [
  {
   "cell_type": "code",
   "id": "initial_id",
   "metadata": {
    "collapsed": true,
    "ExecuteTime": {
     "end_time": "2025-02-25T00:19:35.475050Z",
     "start_time": "2025-02-25T00:19:33.242505Z"
    }
   },
   "source": "import pandas as pd",
   "outputs": [],
   "execution_count": 1
  },
  {
   "metadata": {
    "ExecuteTime": {
     "end_time": "2025-02-25T00:19:38.908720Z",
     "start_time": "2025-02-25T00:19:38.735740Z"
    }
   },
   "cell_type": "code",
   "source": [
    "df_data_historica = pd.read_csv('../data/fifa_worldcup_historical_data.csv')\n",
    "df_fixture = pd.read_csv('../data/fifa_worldcup_fixture.csv')\n"
   ],
   "id": "57c07a1c6b2d59db",
   "outputs": [],
   "execution_count": 2
  },
  {
   "metadata": {
    "ExecuteTime": {
     "end_time": "2025-02-25T00:25:47.193634Z",
     "start_time": "2025-02-25T00:25:45.872176Z"
    }
   },
   "cell_type": "code",
   "source": [
    "df_fixture['home'] = df_fixture['home'].str.strip()\n",
    "df_fixture['away'] = df_fixture['away'].str.strip()"
   ],
   "id": "94a21636a874728b",
   "outputs": [],
   "execution_count": 5
  },
  {
   "metadata": {
    "ExecuteTime": {
     "end_time": "2025-02-25T01:02:19.752788Z",
     "start_time": "2025-02-25T01:02:11.239804Z"
    }
   },
   "cell_type": "code",
   "source": "df_fixture",
   "id": "f6d8f4578e04bf9f",
   "outputs": [
    {
     "data": {
      "text/plain": [
       "                home     score              away  year\n",
       "0              Qatar   Match 1           Ecuador  2022\n",
       "1            Senegal   Match 2       Netherlands  2022\n",
       "2              Qatar  Match 18           Senegal  2022\n",
       "3        Netherlands  Match 19           Ecuador  2022\n",
       "4            Ecuador  Match 35           Senegal  2022\n",
       "..               ...       ...               ...   ...\n",
       "59  Winners Match 51  Match 59  Winners Match 52  2022\n",
       "60  Winners Match 57  Match 61  Winners Match 58  2022\n",
       "61  Winners Match 59  Match 62  Winners Match 60  2022\n",
       "62   Losers Match 61  Match 63   Losers Match 62  2022\n",
       "63  Winners Match 61  Match 64  Winners Match 62  2022\n",
       "\n",
       "[64 rows x 4 columns]"
      ],
      "text/html": [
       "<div>\n",
       "<style scoped>\n",
       "    .dataframe tbody tr th:only-of-type {\n",
       "        vertical-align: middle;\n",
       "    }\n",
       "\n",
       "    .dataframe tbody tr th {\n",
       "        vertical-align: top;\n",
       "    }\n",
       "\n",
       "    .dataframe thead th {\n",
       "        text-align: right;\n",
       "    }\n",
       "</style>\n",
       "<table border=\"1\" class=\"dataframe\">\n",
       "  <thead>\n",
       "    <tr style=\"text-align: right;\">\n",
       "      <th></th>\n",
       "      <th>home</th>\n",
       "      <th>score</th>\n",
       "      <th>away</th>\n",
       "      <th>year</th>\n",
       "    </tr>\n",
       "  </thead>\n",
       "  <tbody>\n",
       "    <tr>\n",
       "      <th>0</th>\n",
       "      <td>Qatar</td>\n",
       "      <td>Match 1</td>\n",
       "      <td>Ecuador</td>\n",
       "      <td>2022</td>\n",
       "    </tr>\n",
       "    <tr>\n",
       "      <th>1</th>\n",
       "      <td>Senegal</td>\n",
       "      <td>Match 2</td>\n",
       "      <td>Netherlands</td>\n",
       "      <td>2022</td>\n",
       "    </tr>\n",
       "    <tr>\n",
       "      <th>2</th>\n",
       "      <td>Qatar</td>\n",
       "      <td>Match 18</td>\n",
       "      <td>Senegal</td>\n",
       "      <td>2022</td>\n",
       "    </tr>\n",
       "    <tr>\n",
       "      <th>3</th>\n",
       "      <td>Netherlands</td>\n",
       "      <td>Match 19</td>\n",
       "      <td>Ecuador</td>\n",
       "      <td>2022</td>\n",
       "    </tr>\n",
       "    <tr>\n",
       "      <th>4</th>\n",
       "      <td>Ecuador</td>\n",
       "      <td>Match 35</td>\n",
       "      <td>Senegal</td>\n",
       "      <td>2022</td>\n",
       "    </tr>\n",
       "    <tr>\n",
       "      <th>...</th>\n",
       "      <td>...</td>\n",
       "      <td>...</td>\n",
       "      <td>...</td>\n",
       "      <td>...</td>\n",
       "    </tr>\n",
       "    <tr>\n",
       "      <th>59</th>\n",
       "      <td>Winners Match 51</td>\n",
       "      <td>Match 59</td>\n",
       "      <td>Winners Match 52</td>\n",
       "      <td>2022</td>\n",
       "    </tr>\n",
       "    <tr>\n",
       "      <th>60</th>\n",
       "      <td>Winners Match 57</td>\n",
       "      <td>Match 61</td>\n",
       "      <td>Winners Match 58</td>\n",
       "      <td>2022</td>\n",
       "    </tr>\n",
       "    <tr>\n",
       "      <th>61</th>\n",
       "      <td>Winners Match 59</td>\n",
       "      <td>Match 62</td>\n",
       "      <td>Winners Match 60</td>\n",
       "      <td>2022</td>\n",
       "    </tr>\n",
       "    <tr>\n",
       "      <th>62</th>\n",
       "      <td>Losers Match 61</td>\n",
       "      <td>Match 63</td>\n",
       "      <td>Losers Match 62</td>\n",
       "      <td>2022</td>\n",
       "    </tr>\n",
       "    <tr>\n",
       "      <th>63</th>\n",
       "      <td>Winners Match 61</td>\n",
       "      <td>Match 64</td>\n",
       "      <td>Winners Match 62</td>\n",
       "      <td>2022</td>\n",
       "    </tr>\n",
       "  </tbody>\n",
       "</table>\n",
       "<p>64 rows × 4 columns</p>\n",
       "</div>"
      ]
     },
     "execution_count": 6,
     "metadata": {},
     "output_type": "execute_result"
    }
   ],
   "execution_count": 6
  },
  {
   "metadata": {
    "ExecuteTime": {
     "end_time": "2025-02-25T00:20:13.910370Z",
     "start_time": "2025-02-25T00:20:12.501879Z"
    }
   },
   "cell_type": "code",
   "source": [
    "df_data_historica[df_data_historica['home'].str.contains('Sweden') &\n",
    "df_data_historica['away'].str.contains('Austria')].index"
   ],
   "id": "9ee50ce0d2fd865d",
   "outputs": [
    {
     "data": {
      "text/plain": [
       "Index([37], dtype='int64')"
      ]
     },
     "execution_count": 4,
     "metadata": {},
     "output_type": "execute_result"
    }
   ],
   "execution_count": 4
  },
  {
   "metadata": {
    "ExecuteTime": {
     "end_time": "2025-02-20T00:25:32.938771Z",
     "start_time": "2025-02-20T00:25:32.910854Z"
    }
   },
   "cell_type": "code",
   "source": [
    "index_eliminar = df_data_historica[df_data_historica['home'].str.contains('Sweden') &\n",
    "                                   df_data_historica['away'].str.contains('Austria')].index"
   ],
   "id": "854018221cf38679",
   "outputs": [],
   "execution_count": 8
  },
  {
   "metadata": {
    "ExecuteTime": {
     "end_time": "2025-02-20T00:25:34.545654Z",
     "start_time": "2025-02-20T00:25:34.522150Z"
    }
   },
   "cell_type": "code",
   "source": "df_data_historica.drop(index=index_eliminar, inplace=True)",
   "id": "e54175f3bc4edc24",
   "outputs": [],
   "execution_count": 9
  },
  {
   "metadata": {
    "ExecuteTime": {
     "end_time": "2025-02-20T00:25:36.034126Z",
     "start_time": "2025-02-20T00:25:36.005853Z"
    }
   },
   "cell_type": "code",
   "source": [
    "# df_data_historica[df_data_historica['score'].str.contains('[^\\d—]')]\n",
    "df_data_historica['score'] = df_data_historica['score'].str.replace('[^\\d]', '', regex=True)"
   ],
   "id": "5c2fe4aa79525442",
   "outputs": [],
   "execution_count": 10
  },
  {
   "metadata": {
    "ExecuteTime": {
     "end_time": "2025-02-20T00:25:38.739271Z",
     "start_time": "2025-02-20T00:25:38.713515Z"
    }
   },
   "cell_type": "code",
   "source": [
    "df_data_historica['home'] = df_data_historica['home'].str.strip()\n",
    "df_data_historica['away'] = df_data_historica['away'].str.strip()"
   ],
   "id": "b1ca5e6132026426",
   "outputs": [],
   "execution_count": 11
  },
  {
   "metadata": {
    "ExecuteTime": {
     "end_time": "2025-02-20T00:37:24.679011Z",
     "start_time": "2025-02-20T00:37:23.821388Z"
    }
   },
   "cell_type": "code",
   "source": "df_data_historica[['HomeGoals', 'AwayGoals']] = df_data_historica['score'].apply(lambda x: pd.Series([int(x[0]), int(x[1])]))",
   "id": "c49611cd3534cdf9",
   "outputs": [],
   "execution_count": 15
  },
  {
   "metadata": {
    "ExecuteTime": {
     "end_time": "2025-02-20T00:40:12.822022Z",
     "start_time": "2025-02-20T00:40:12.174791Z"
    }
   },
   "cell_type": "code",
   "source": "df_data_historica.drop('score', axis=1, inplace=True)",
   "id": "777a8076e3bc2151",
   "outputs": [],
   "execution_count": 17
  },
  {
   "metadata": {
    "ExecuteTime": {
     "end_time": "2025-02-20T00:45:00.605860Z",
     "start_time": "2025-02-20T00:45:00.498851Z"
    }
   },
   "cell_type": "code",
   "source": "df_data_historica.rename(columns= {'home': 'HomeTeam', 'away': 'AwayHome', 'year': 'Year'}, inplace=True)",
   "id": "f7e045bdbf61b2b0",
   "outputs": [],
   "execution_count": 21
  },
  {
   "metadata": {
    "ExecuteTime": {
     "end_time": "2025-02-20T00:48:10.637428Z",
     "start_time": "2025-02-20T00:48:10.548920Z"
    }
   },
   "cell_type": "code",
   "source": "df_data_historica.dtypes",
   "id": "f2641f5f8341f5c5",
   "outputs": [
    {
     "data": {
      "text/plain": [
       "HomeTeam     object\n",
       "AwayHome     object\n",
       "Year          int64\n",
       "HomeGoals     int64\n",
       "AwayGoals     int64\n",
       "dtype: object"
      ]
     },
     "execution_count": 24,
     "metadata": {},
     "output_type": "execute_result"
    }
   ],
   "execution_count": 24
  },
  {
   "metadata": {
    "ExecuteTime": {
     "end_time": "2025-02-20T00:53:29.711297Z",
     "start_time": "2025-02-20T00:53:29.351104Z"
    }
   },
   "cell_type": "code",
   "source": "df_fixture.dtypes",
   "id": "83c206c2a711ac67",
   "outputs": [
    {
     "data": {
      "text/plain": [
       "home     object\n",
       "score    object\n",
       "away     object\n",
       "year      int64\n",
       "dtype: object"
      ]
     },
     "execution_count": 25,
     "metadata": {},
     "output_type": "execute_result"
    }
   ],
   "execution_count": 25
  },
  {
   "metadata": {
    "ExecuteTime": {
     "end_time": "2025-02-20T00:55:55.250872Z",
     "start_time": "2025-02-20T00:55:53.955259Z"
    }
   },
   "cell_type": "code",
   "source": [
    "df_data_historica.to_csv('clean_fifa_worldcup_historical_data.csv', index=False)\n",
    "df_fixture.to_csv('clean_fifa_worldcup_fixture.csv', index=False)"
   ],
   "id": "d15e5c76e711498c",
   "outputs": [],
   "execution_count": 26
  },
  {
   "metadata": {
    "ExecuteTime": {
     "end_time": "2025-02-20T01:00:43.288722Z",
     "start_time": "2025-02-20T01:00:42.132921Z"
    }
   },
   "cell_type": "code",
   "source": [
    "years = [1930, 1934, 1938, 1950, 1954, 1958, 1962, 1966, 1970,\n",
    "        1974, 1978, 1982, 1986, 1990, 1994, 1998, 2002, 2006,\n",
    "        2010, 2014, 2018]\n",
    "\n",
    "for year in years:\n",
    "    print(year, len(df_data_historica[df_data_historica['Year']==year]))"
   ],
   "id": "628e591511c3eab0",
   "outputs": [
    {
     "name": "stdout",
     "output_type": "stream",
     "text": [
      "1930 18\n",
      "1934 17\n",
      "1938 18\n",
      "1950 22\n",
      "1954 26\n",
      "1958 35\n",
      "1962 32\n",
      "1966 32\n",
      "1970 32\n",
      "1974 38\n",
      "1978 38\n",
      "1982 52\n",
      "1986 52\n",
      "1990 16\n",
      "1994 52\n",
      "1998 64\n",
      "2002 64\n",
      "2006 64\n",
      "2010 64\n",
      "2014 64\n",
      "2018 64\n"
     ]
    }
   ],
   "execution_count": 27
  }
 ],
 "metadata": {
  "kernelspec": {
   "display_name": "Python 3",
   "language": "python",
   "name": "python3"
  },
  "language_info": {
   "codemirror_mode": {
    "name": "ipython",
    "version": 2
   },
   "file_extension": ".py",
   "mimetype": "text/x-python",
   "name": "python",
   "nbconvert_exporter": "python",
   "pygments_lexer": "ipython2",
   "version": "2.7.6"
  }
 },
 "nbformat": 4,
 "nbformat_minor": 5
}
