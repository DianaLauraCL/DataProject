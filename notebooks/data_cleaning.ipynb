{
 "cells": [
  {
   "cell_type": "code",
   "id": "initial_id",
   "metadata": {
    "collapsed": true,
    "ExecuteTime": {
     "end_time": "2025-02-25T15:11:04.994977Z",
     "start_time": "2025-02-25T15:10:49.417579Z"
    }
   },
   "source": [
    "import pandas as pd\n",
    "\n"
   ],
   "outputs": [],
   "execution_count": 1
  },
  {
   "metadata": {
    "ExecuteTime": {
     "end_time": "2025-02-25T15:11:41.431707Z",
     "start_time": "2025-02-25T15:11:40.527247Z"
    }
   },
   "cell_type": "code",
   "source": [
    "df_historical_data = pd.read_csv('../data/fifa_worldcup_historical_data.csv')\n",
    "df_fixture = pd.read_csv('../data/fifa_worldcup_fixture.csv')"
   ],
   "id": "894dbbbaa1569eaa",
   "outputs": [],
   "execution_count": 2
  },
  {
   "metadata": {
    "ExecuteTime": {
     "end_time": "2025-02-25T15:11:42.887181Z",
     "start_time": "2025-02-25T15:11:42.834199Z"
    }
   },
   "cell_type": "code",
   "source": [
    "df_fixture['home'] = df_fixture['home'].str.strip()\n",
    "df_fixture['away'] = df_fixture['away'].str.strip()"
   ],
   "id": "73be44aec781778b",
   "outputs": [],
   "execution_count": 3
  },
  {
   "metadata": {
    "ExecuteTime": {
     "end_time": "2025-02-25T15:11:45.148081Z",
     "start_time": "2025-02-25T15:11:44.869049Z"
    }
   },
   "cell_type": "code",
   "source": "df_fixture",
   "id": "102a6f4c14f0571e",
   "outputs": [
    {
     "data": {
      "text/plain": [
       "                home     score              away  year\n",
       "0              Qatar   Match 1           Ecuador  2022\n",
       "1            Senegal   Match 2       Netherlands  2022\n",
       "2              Qatar  Match 18           Senegal  2022\n",
       "3        Netherlands  Match 19           Ecuador  2022\n",
       "4            Ecuador  Match 35           Senegal  2022\n",
       "..               ...       ...               ...   ...\n",
       "59  Winners Match 51  Match 59  Winners Match 52  2022\n",
       "60  Winners Match 57  Match 61  Winners Match 58  2022\n",
       "61  Winners Match 59  Match 62  Winners Match 60  2022\n",
       "62   Losers Match 61  Match 63   Losers Match 62  2022\n",
       "63  Winners Match 61  Match 64  Winners Match 62  2022\n",
       "\n",
       "[64 rows x 4 columns]"
      ],
      "text/html": [
       "<div>\n",
       "<style scoped>\n",
       "    .dataframe tbody tr th:only-of-type {\n",
       "        vertical-align: middle;\n",
       "    }\n",
       "\n",
       "    .dataframe tbody tr th {\n",
       "        vertical-align: top;\n",
       "    }\n",
       "\n",
       "    .dataframe thead th {\n",
       "        text-align: right;\n",
       "    }\n",
       "</style>\n",
       "<table border=\"1\" class=\"dataframe\">\n",
       "  <thead>\n",
       "    <tr style=\"text-align: right;\">\n",
       "      <th></th>\n",
       "      <th>home</th>\n",
       "      <th>score</th>\n",
       "      <th>away</th>\n",
       "      <th>year</th>\n",
       "    </tr>\n",
       "  </thead>\n",
       "  <tbody>\n",
       "    <tr>\n",
       "      <th>0</th>\n",
       "      <td>Qatar</td>\n",
       "      <td>Match 1</td>\n",
       "      <td>Ecuador</td>\n",
       "      <td>2022</td>\n",
       "    </tr>\n",
       "    <tr>\n",
       "      <th>1</th>\n",
       "      <td>Senegal</td>\n",
       "      <td>Match 2</td>\n",
       "      <td>Netherlands</td>\n",
       "      <td>2022</td>\n",
       "    </tr>\n",
       "    <tr>\n",
       "      <th>2</th>\n",
       "      <td>Qatar</td>\n",
       "      <td>Match 18</td>\n",
       "      <td>Senegal</td>\n",
       "      <td>2022</td>\n",
       "    </tr>\n",
       "    <tr>\n",
       "      <th>3</th>\n",
       "      <td>Netherlands</td>\n",
       "      <td>Match 19</td>\n",
       "      <td>Ecuador</td>\n",
       "      <td>2022</td>\n",
       "    </tr>\n",
       "    <tr>\n",
       "      <th>4</th>\n",
       "      <td>Ecuador</td>\n",
       "      <td>Match 35</td>\n",
       "      <td>Senegal</td>\n",
       "      <td>2022</td>\n",
       "    </tr>\n",
       "    <tr>\n",
       "      <th>...</th>\n",
       "      <td>...</td>\n",
       "      <td>...</td>\n",
       "      <td>...</td>\n",
       "      <td>...</td>\n",
       "    </tr>\n",
       "    <tr>\n",
       "      <th>59</th>\n",
       "      <td>Winners Match 51</td>\n",
       "      <td>Match 59</td>\n",
       "      <td>Winners Match 52</td>\n",
       "      <td>2022</td>\n",
       "    </tr>\n",
       "    <tr>\n",
       "      <th>60</th>\n",
       "      <td>Winners Match 57</td>\n",
       "      <td>Match 61</td>\n",
       "      <td>Winners Match 58</td>\n",
       "      <td>2022</td>\n",
       "    </tr>\n",
       "    <tr>\n",
       "      <th>61</th>\n",
       "      <td>Winners Match 59</td>\n",
       "      <td>Match 62</td>\n",
       "      <td>Winners Match 60</td>\n",
       "      <td>2022</td>\n",
       "    </tr>\n",
       "    <tr>\n",
       "      <th>62</th>\n",
       "      <td>Losers Match 61</td>\n",
       "      <td>Match 63</td>\n",
       "      <td>Losers Match 62</td>\n",
       "      <td>2022</td>\n",
       "    </tr>\n",
       "    <tr>\n",
       "      <th>63</th>\n",
       "      <td>Winners Match 61</td>\n",
       "      <td>Match 64</td>\n",
       "      <td>Winners Match 62</td>\n",
       "      <td>2022</td>\n",
       "    </tr>\n",
       "  </tbody>\n",
       "</table>\n",
       "<p>64 rows × 4 columns</p>\n",
       "</div>"
      ]
     },
     "execution_count": 4,
     "metadata": {},
     "output_type": "execute_result"
    }
   ],
   "execution_count": 4
  },
  {
   "metadata": {
    "ExecuteTime": {
     "end_time": "2025-02-25T15:11:49.913592Z",
     "start_time": "2025-02-25T15:11:49.737695Z"
    }
   },
   "cell_type": "code",
   "source": "df_historical_data[df_historical_data['home'].str.contains('Sweden') & df_historical_data['away'].str.contains('Austria')].index",
   "id": "3630db215374948e",
   "outputs": [
    {
     "data": {
      "text/plain": [
       "Index([37], dtype='int64')"
      ]
     },
     "execution_count": 5,
     "metadata": {},
     "output_type": "execute_result"
    }
   ],
   "execution_count": 5
  },
  {
   "metadata": {
    "ExecuteTime": {
     "end_time": "2025-02-25T15:11:51.739831Z",
     "start_time": "2025-02-25T15:11:51.690591Z"
    }
   },
   "cell_type": "code",
   "source": "delete_index = df_historical_data[df_historical_data['home'].str.contains('Sweden') & df_historical_data['away'].str.contains('Austria')].index",
   "id": "b3781c397375c583",
   "outputs": [],
   "execution_count": 6
  },
  {
   "metadata": {
    "ExecuteTime": {
     "end_time": "2025-02-25T15:11:53.538984Z",
     "start_time": "2025-02-25T15:11:53.468808Z"
    }
   },
   "cell_type": "code",
   "source": "df_historical_data.drop(index=delete_index, inplace=True)",
   "id": "9ce1cb997566433c",
   "outputs": [],
   "execution_count": 7
  },
  {
   "metadata": {
    "ExecuteTime": {
     "end_time": "2025-02-25T15:11:55.466867Z",
     "start_time": "2025-02-25T15:11:55.437825Z"
    }
   },
   "cell_type": "code",
   "source": [
    "df_historical_data['home'] = df_historical_data['home'].str.strip()\n",
    "df_historical_data['away'] = df_historical_data['away'].str.strip()"
   ],
   "id": "537c734db11a1628",
   "outputs": [],
   "execution_count": 8
  },
  {
   "metadata": {
    "ExecuteTime": {
     "end_time": "2025-02-25T15:11:57.971793Z",
     "start_time": "2025-02-25T15:11:57.932799Z"
    }
   },
   "cell_type": "code",
   "source": "df_historical_data",
   "id": "9136837492ee06c",
   "outputs": [
    {
     "data": {
      "text/plain": [
       "          home         score     away  year\n",
       "0       France           4–1   Mexico  1930\n",
       "1    Argentina           1–0   France  1930\n",
       "2        Chile           3–0   Mexico  1930\n",
       "3        Chile           1–0   France  1930\n",
       "4    Argentina           6–3   Mexico  1930\n",
       "..         ...           ...      ...   ...\n",
       "860     Russia  2–2 (a.e.t.)  Croatia  2018\n",
       "861     France           1–0  Belgium  2018\n",
       "862    Croatia  2–1 (a.e.t.)  England  2018\n",
       "863    Belgium           2–0  England  2018\n",
       "864     France           4–2  Croatia  2018\n",
       "\n",
       "[864 rows x 4 columns]"
      ],
      "text/html": [
       "<div>\n",
       "<style scoped>\n",
       "    .dataframe tbody tr th:only-of-type {\n",
       "        vertical-align: middle;\n",
       "    }\n",
       "\n",
       "    .dataframe tbody tr th {\n",
       "        vertical-align: top;\n",
       "    }\n",
       "\n",
       "    .dataframe thead th {\n",
       "        text-align: right;\n",
       "    }\n",
       "</style>\n",
       "<table border=\"1\" class=\"dataframe\">\n",
       "  <thead>\n",
       "    <tr style=\"text-align: right;\">\n",
       "      <th></th>\n",
       "      <th>home</th>\n",
       "      <th>score</th>\n",
       "      <th>away</th>\n",
       "      <th>year</th>\n",
       "    </tr>\n",
       "  </thead>\n",
       "  <tbody>\n",
       "    <tr>\n",
       "      <th>0</th>\n",
       "      <td>France</td>\n",
       "      <td>4–1</td>\n",
       "      <td>Mexico</td>\n",
       "      <td>1930</td>\n",
       "    </tr>\n",
       "    <tr>\n",
       "      <th>1</th>\n",
       "      <td>Argentina</td>\n",
       "      <td>1–0</td>\n",
       "      <td>France</td>\n",
       "      <td>1930</td>\n",
       "    </tr>\n",
       "    <tr>\n",
       "      <th>2</th>\n",
       "      <td>Chile</td>\n",
       "      <td>3–0</td>\n",
       "      <td>Mexico</td>\n",
       "      <td>1930</td>\n",
       "    </tr>\n",
       "    <tr>\n",
       "      <th>3</th>\n",
       "      <td>Chile</td>\n",
       "      <td>1–0</td>\n",
       "      <td>France</td>\n",
       "      <td>1930</td>\n",
       "    </tr>\n",
       "    <tr>\n",
       "      <th>4</th>\n",
       "      <td>Argentina</td>\n",
       "      <td>6–3</td>\n",
       "      <td>Mexico</td>\n",
       "      <td>1930</td>\n",
       "    </tr>\n",
       "    <tr>\n",
       "      <th>...</th>\n",
       "      <td>...</td>\n",
       "      <td>...</td>\n",
       "      <td>...</td>\n",
       "      <td>...</td>\n",
       "    </tr>\n",
       "    <tr>\n",
       "      <th>860</th>\n",
       "      <td>Russia</td>\n",
       "      <td>2–2 (a.e.t.)</td>\n",
       "      <td>Croatia</td>\n",
       "      <td>2018</td>\n",
       "    </tr>\n",
       "    <tr>\n",
       "      <th>861</th>\n",
       "      <td>France</td>\n",
       "      <td>1–0</td>\n",
       "      <td>Belgium</td>\n",
       "      <td>2018</td>\n",
       "    </tr>\n",
       "    <tr>\n",
       "      <th>862</th>\n",
       "      <td>Croatia</td>\n",
       "      <td>2–1 (a.e.t.)</td>\n",
       "      <td>England</td>\n",
       "      <td>2018</td>\n",
       "    </tr>\n",
       "    <tr>\n",
       "      <th>863</th>\n",
       "      <td>Belgium</td>\n",
       "      <td>2–0</td>\n",
       "      <td>England</td>\n",
       "      <td>2018</td>\n",
       "    </tr>\n",
       "    <tr>\n",
       "      <th>864</th>\n",
       "      <td>France</td>\n",
       "      <td>4–2</td>\n",
       "      <td>Croatia</td>\n",
       "      <td>2018</td>\n",
       "    </tr>\n",
       "  </tbody>\n",
       "</table>\n",
       "<p>864 rows × 4 columns</p>\n",
       "</div>"
      ]
     },
     "execution_count": 9,
     "metadata": {},
     "output_type": "execute_result"
    }
   ],
   "execution_count": 9
  },
  {
   "metadata": {
    "ExecuteTime": {
     "end_time": "2025-02-25T15:16:03.773352Z",
     "start_time": "2025-02-25T15:16:02.938027Z"
    }
   },
   "cell_type": "code",
   "source": [
    "# df_historical_data[df_historical_data['score'].str.contains('[^\\d—]')]\n",
    "df_historical_data['score'] = df_historical_data['score'].str.replace('[^\\d—]', '', regex=True)"
   ],
   "id": "272232986ae0576",
   "outputs": [],
   "execution_count": 10
  },
  {
   "metadata": {
    "ExecuteTime": {
     "end_time": "2025-02-25T15:20:37.295819Z",
     "start_time": "2025-02-25T15:20:36.840527Z"
    }
   },
   "cell_type": "code",
   "source": "df_historical_data['score']= df_historical_data['score'].str.split('—', expand=True)",
   "id": "ed74fb810487f5af",
   "outputs": [],
   "execution_count": 16
  },
  {
   "metadata": {
    "ExecuteTime": {
     "end_time": "2025-02-25T15:23:20.713235Z",
     "start_time": "2025-02-25T15:23:18.098039Z"
    }
   },
   "cell_type": "code",
   "source": "df_historical_data[['HomeGoals', 'AwayGoals']] = df_historical_data['score'].apply(lambda x:pd.Series([int(x[0]), int(x[1])]))",
   "id": "b2cb08f11ece667f",
   "outputs": [],
   "execution_count": 18
  },
  {
   "metadata": {
    "ExecuteTime": {
     "end_time": "2025-02-25T15:24:09.288310Z",
     "start_time": "2025-02-25T15:24:08.371089Z"
    }
   },
   "cell_type": "code",
   "source": "df_historical_data.drop('score', axis=1, inplace=True)",
   "id": "9bd70cb55de9627b",
   "outputs": [],
   "execution_count": 20
  },
  {
   "metadata": {
    "ExecuteTime": {
     "end_time": "2025-02-25T15:25:21.747332Z",
     "start_time": "2025-02-25T15:25:20.675036Z"
    }
   },
   "cell_type": "code",
   "source": "df_historical_data.rename(columns={'home': 'HomeTeam', 'away': 'AwayTeam', 'year': 'Year'}, inplace=True)",
   "id": "a2df68cfabd6aaf1",
   "outputs": [],
   "execution_count": 21
  },
  {
   "metadata": {
    "ExecuteTime": {
     "end_time": "2025-02-25T15:25:35.161037Z",
     "start_time": "2025-02-25T15:25:33.659193Z"
    }
   },
   "cell_type": "code",
   "source": "df_historical_data.dtypes",
   "id": "52622c1ca1626286",
   "outputs": [
    {
     "data": {
      "text/plain": [
       "HomeTeam     object\n",
       "AwayTeam     object\n",
       "Year          int64\n",
       "HomeGoals     int64\n",
       "AwayGoals     int64\n",
       "dtype: object"
      ]
     },
     "execution_count": 22,
     "metadata": {},
     "output_type": "execute_result"
    }
   ],
   "execution_count": 22
  },
  {
   "metadata": {
    "ExecuteTime": {
     "end_time": "2025-02-25T15:25:58.613796Z",
     "start_time": "2025-02-25T15:25:58.587704Z"
    }
   },
   "cell_type": "code",
   "source": "df_fixture.dtypes",
   "id": "aaea94bae6165b45",
   "outputs": [
    {
     "data": {
      "text/plain": [
       "home     object\n",
       "score    object\n",
       "away     object\n",
       "year      int64\n",
       "dtype: object"
      ]
     },
     "execution_count": 23,
     "metadata": {},
     "output_type": "execute_result"
    }
   ],
   "execution_count": 23
  },
  {
   "metadata": {
    "ExecuteTime": {
     "end_time": "2025-02-25T15:30:05.322249Z",
     "start_time": "2025-02-25T15:30:04.645345Z"
    }
   },
   "cell_type": "code",
   "source": [
    "df_historical_data.to_csv('clean_fifa_worldcup_data_historical_data.csv', index=True)\n",
    "df_fixture.to_csv('clean_fifa_worldcup_fixture.csv', index=True)"
   ],
   "id": "913fda5a96d7c0e3",
   "outputs": [],
   "execution_count": 25
  },
  {
   "metadata": {
    "ExecuteTime": {
     "end_time": "2025-02-25T15:28:55.772987Z",
     "start_time": "2025-02-25T15:28:53.942593Z"
    }
   },
   "cell_type": "code",
   "source": [
    "years = [1930, 1934, 1938, 1950, 1954, 1958, 1962, 1966, 1970,\n",
    "        1974, 1978, 1982, 1986, 1990, 1994, 1998, 2002, 2006,\n",
    "        2010, 2014, 2018]\n",
    "\n",
    "for year in years:\n",
    "    print(year, len(df_historical_data[df_historical_data['Year']==year]))"
   ],
   "id": "795ac2b6b0488c91",
   "outputs": [
    {
     "name": "stdout",
     "output_type": "stream",
     "text": [
      "1930 18\n",
      "1934 17\n",
      "1938 18\n",
      "1950 22\n",
      "1954 26\n",
      "1958 35\n",
      "1962 32\n",
      "1966 32\n",
      "1970 32\n",
      "1974 38\n",
      "1978 38\n",
      "1982 52\n",
      "1986 52\n",
      "1990 16\n",
      "1994 52\n",
      "1998 64\n",
      "2002 64\n",
      "2006 64\n",
      "2010 64\n",
      "2014 64\n",
      "2018 64\n"
     ]
    }
   ],
   "execution_count": 24
  }
 ],
 "metadata": {
  "kernelspec": {
   "display_name": "Python 3",
   "language": "python",
   "name": "python3"
  },
  "language_info": {
   "codemirror_mode": {
    "name": "ipython",
    "version": 2
   },
   "file_extension": ".py",
   "mimetype": "text/x-python",
   "name": "python",
   "nbconvert_exporter": "python",
   "pygments_lexer": "ipython2",
   "version": "2.7.6"
  }
 },
 "nbformat": 4,
 "nbformat_minor": 5
}
