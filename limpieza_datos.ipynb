{
 "cells": [
  {
   "cell_type": "code",
   "id": "initial_id",
   "metadata": {
    "collapsed": true,
    "ExecuteTime": {
     "end_time": "2025-02-20T00:25:21.976673Z",
     "start_time": "2025-02-20T00:25:14.213420Z"
    }
   },
   "source": "import pandas as pd",
   "outputs": [],
   "execution_count": 3
  },
  {
   "metadata": {
    "ExecuteTime": {
     "end_time": "2025-02-20T00:25:24.866940Z",
     "start_time": "2025-02-20T00:25:24.650004Z"
    }
   },
   "cell_type": "code",
   "source": [
    "df_data_historica = pd.read_csv('fifa_worldcup_historical_data.csv')\n",
    "df_fixture = pd.read_csv('fifa_worldcup_fixture.csv')\n"
   ],
   "id": "57c07a1c6b2d59db",
   "outputs": [],
   "execution_count": 4
  },
  {
   "metadata": {
    "ExecuteTime": {
     "end_time": "2025-02-20T00:25:26.705181Z",
     "start_time": "2025-02-20T00:25:26.663355Z"
    }
   },
   "cell_type": "code",
   "source": [
    "df_fixture['home'] = df_fixture['home'].str.strip()\n",
    "df_fixture['away'] = df_fixture['away'].str.strip()"
   ],
   "id": "94a21636a874728b",
   "outputs": [],
   "execution_count": 5
  },
  {
   "metadata": {
    "ExecuteTime": {
     "end_time": "2025-02-20T00:25:28.931172Z",
     "start_time": "2025-02-20T00:25:28.822052Z"
    }
   },
   "cell_type": "code",
   "source": "df_fixture[df_fixture['home'].isnull()]",
   "id": "f6d8f4578e04bf9f",
   "outputs": [
    {
     "data": {
      "text/plain": [
       "Empty DataFrame\n",
       "Columns: [home, score, away, year]\n",
       "Index: []"
      ],
      "text/html": [
       "<div>\n",
       "<style scoped>\n",
       "    .dataframe tbody tr th:only-of-type {\n",
       "        vertical-align: middle;\n",
       "    }\n",
       "\n",
       "    .dataframe tbody tr th {\n",
       "        vertical-align: top;\n",
       "    }\n",
       "\n",
       "    .dataframe thead th {\n",
       "        text-align: right;\n",
       "    }\n",
       "</style>\n",
       "<table border=\"1\" class=\"dataframe\">\n",
       "  <thead>\n",
       "    <tr style=\"text-align: right;\">\n",
       "      <th></th>\n",
       "      <th>home</th>\n",
       "      <th>score</th>\n",
       "      <th>away</th>\n",
       "      <th>year</th>\n",
       "    </tr>\n",
       "  </thead>\n",
       "  <tbody>\n",
       "  </tbody>\n",
       "</table>\n",
       "</div>"
      ]
     },
     "execution_count": 6,
     "metadata": {},
     "output_type": "execute_result"
    }
   ],
   "execution_count": 6
  },
  {
   "metadata": {
    "ExecuteTime": {
     "end_time": "2025-02-20T00:25:31.192599Z",
     "start_time": "2025-02-20T00:25:31.163078Z"
    }
   },
   "cell_type": "code",
   "source": [
    "df_data_historica[df_data_historica['home'].str.contains('Sweden') &\n",
    "df_data_historica['away'].str.contains('Austria')].index"
   ],
   "id": "9ee50ce0d2fd865d",
   "outputs": [
    {
     "data": {
      "text/plain": [
       "Index([37], dtype='int64')"
      ]
     },
     "execution_count": 7,
     "metadata": {},
     "output_type": "execute_result"
    }
   ],
   "execution_count": 7
  },
  {
   "metadata": {
    "ExecuteTime": {
     "end_time": "2025-02-20T00:25:32.938771Z",
     "start_time": "2025-02-20T00:25:32.910854Z"
    }
   },
   "cell_type": "code",
   "source": [
    "index_eliminar = df_data_historica[df_data_historica['home'].str.contains('Sweden') &\n",
    "                                   df_data_historica['away'].str.contains('Austria')].index"
   ],
   "id": "854018221cf38679",
   "outputs": [],
   "execution_count": 8
  },
  {
   "metadata": {
    "ExecuteTime": {
     "end_time": "2025-02-20T00:25:34.545654Z",
     "start_time": "2025-02-20T00:25:34.522150Z"
    }
   },
   "cell_type": "code",
   "source": "df_data_historica.drop(index=index_eliminar, inplace=True)",
   "id": "e54175f3bc4edc24",
   "outputs": [],
   "execution_count": 9
  },
  {
   "metadata": {
    "ExecuteTime": {
     "end_time": "2025-02-20T00:25:36.034126Z",
     "start_time": "2025-02-20T00:25:36.005853Z"
    }
   },
   "cell_type": "code",
   "source": [
    "# df_data_historica[df_data_historica['score'].str.contains('[^\\d—]')]\n",
    "df_data_historica['score'] = df_data_historica['score'].str.replace('[^\\d]', '', regex=True)"
   ],
   "id": "5c2fe4aa79525442",
   "outputs": [],
   "execution_count": 10
  },
  {
   "metadata": {
    "ExecuteTime": {
     "end_time": "2025-02-20T00:25:38.739271Z",
     "start_time": "2025-02-20T00:25:38.713515Z"
    }
   },
   "cell_type": "code",
   "source": [
    "df_data_historica['home'] = df_data_historica['home'].str.strip()\n",
    "df_data_historica['away'] = df_data_historica['away'].str.strip()"
   ],
   "id": "b1ca5e6132026426",
   "outputs": [],
   "execution_count": 11
  },
  {
   "metadata": {
    "ExecuteTime": {
     "end_time": "2025-02-20T00:37:24.679011Z",
     "start_time": "2025-02-20T00:37:23.821388Z"
    }
   },
   "cell_type": "code",
   "source": "df_data_historica[['HomeGoals', 'AwayGoals']] = df_data_historica['score'].apply(lambda x: pd.Series([int(x[0]), int(x[1])]))",
   "id": "c49611cd3534cdf9",
   "outputs": [],
   "execution_count": 15
  },
  {
   "metadata": {
    "ExecuteTime": {
     "end_time": "2025-02-20T00:40:12.822022Z",
     "start_time": "2025-02-20T00:40:12.174791Z"
    }
   },
   "cell_type": "code",
   "source": "df_data_historica.drop('score', axis=1, inplace=True)",
   "id": "777a8076e3bc2151",
   "outputs": [],
   "execution_count": 17
  },
  {
   "metadata": {
    "ExecuteTime": {
     "end_time": "2025-02-20T00:45:00.605860Z",
     "start_time": "2025-02-20T00:45:00.498851Z"
    }
   },
   "cell_type": "code",
   "source": "df_data_historica.rename(columns= {'home': 'HomeTeam', 'away': 'AwayHome', 'year': 'Year'}, inplace=True)",
   "id": "f7e045bdbf61b2b0",
   "outputs": [],
   "execution_count": 21
  },
  {
   "metadata": {
    "ExecuteTime": {
     "end_time": "2025-02-20T00:48:10.637428Z",
     "start_time": "2025-02-20T00:48:10.548920Z"
    }
   },
   "cell_type": "code",
   "source": "df_data_historica.dtypes",
   "id": "f2641f5f8341f5c5",
   "outputs": [
    {
     "data": {
      "text/plain": [
       "HomeTeam     object\n",
       "AwayHome     object\n",
       "Year          int64\n",
       "HomeGoals     int64\n",
       "AwayGoals     int64\n",
       "dtype: object"
      ]
     },
     "execution_count": 24,
     "metadata": {},
     "output_type": "execute_result"
    }
   ],
   "execution_count": 24
  },
  {
   "metadata": {
    "ExecuteTime": {
     "end_time": "2025-02-20T00:53:29.711297Z",
     "start_time": "2025-02-20T00:53:29.351104Z"
    }
   },
   "cell_type": "code",
   "source": "df_fixture.dtypes",
   "id": "83c206c2a711ac67",
   "outputs": [
    {
     "data": {
      "text/plain": [
       "home     object\n",
       "score    object\n",
       "away     object\n",
       "year      int64\n",
       "dtype: object"
      ]
     },
     "execution_count": 25,
     "metadata": {},
     "output_type": "execute_result"
    }
   ],
   "execution_count": 25
  },
  {
   "metadata": {
    "ExecuteTime": {
     "end_time": "2025-02-20T00:55:55.250872Z",
     "start_time": "2025-02-20T00:55:53.955259Z"
    }
   },
   "cell_type": "code",
   "source": [
    "df_data_historica.to_csv('clean_fifa_worldcup_historical_data.csv', index=False)\n",
    "df_fixture.to_csv('clean_fifa_worldcup_fixture.csv', index=False)"
   ],
   "id": "d15e5c76e711498c",
   "outputs": [],
   "execution_count": 26
  },
  {
   "metadata": {
    "ExecuteTime": {
     "end_time": "2025-02-20T01:00:43.288722Z",
     "start_time": "2025-02-20T01:00:42.132921Z"
    }
   },
   "cell_type": "code",
   "source": [
    "years = [1930, 1934, 1938, 1950, 1954, 1958, 1962, 1966, 1970,\n",
    "        1974, 1978, 1982, 1986, 1990, 1994, 1998, 2002, 2006,\n",
    "        2010, 2014, 2018]\n",
    "\n",
    "for year in years:\n",
    "    print(year, len(df_data_historica[df_data_historica['Year']==year]))"
   ],
   "id": "628e591511c3eab0",
   "outputs": [
    {
     "name": "stdout",
     "output_type": "stream",
     "text": [
      "1930 18\n",
      "1934 17\n",
      "1938 18\n",
      "1950 22\n",
      "1954 26\n",
      "1958 35\n",
      "1962 32\n",
      "1966 32\n",
      "1970 32\n",
      "1974 38\n",
      "1978 38\n",
      "1982 52\n",
      "1986 52\n",
      "1990 16\n",
      "1994 52\n",
      "1998 64\n",
      "2002 64\n",
      "2006 64\n",
      "2010 64\n",
      "2014 64\n",
      "2018 64\n"
     ]
    }
   ],
   "execution_count": 27
  }
 ],
 "metadata": {
  "kernelspec": {
   "display_name": "Python 3",
   "language": "python",
   "name": "python3"
  },
  "language_info": {
   "codemirror_mode": {
    "name": "ipython",
    "version": 2
   },
   "file_extension": ".py",
   "mimetype": "text/x-python",
   "name": "python",
   "nbconvert_exporter": "python",
   "pygments_lexer": "ipython2",
   "version": "2.7.6"
  }
 },
 "nbformat": 4,
 "nbformat_minor": 5
}
